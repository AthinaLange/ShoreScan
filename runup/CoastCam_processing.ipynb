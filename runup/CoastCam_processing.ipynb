{
 "cells": [
  {
   "cell_type": "markdown",
   "metadata": {},
   "source": [
    "Complete codes to processing CoastCams"
   ]
  },
  {
   "cell_type": "markdown",
   "metadata": {},
   "source": [
    "# 📖 Table of Contents\n",
    "- [Get camera intrinsics and extrinsics](#Get-camera-intrinsics-and-extrinsics)\n",
    "- [Define timestacks for ARGUS camera](#Define-timestacks-for-ARGUS-camera)\n",
    "- [Rectify image products](#Rectify-image-products)\n",
    "    - [Example: Plot image rectification from netcdf](##Example-plot-of-rectified-image)\n",
    "    - [Example: Rectify single image](##Rectifying-single-image)\n",
    "- [Extract runup](#Extract-runup)\n",
    "    - [Example: Runup from single image](##Runup-from-single-image)\n",
    "    - [Codes for DEM plots](##DEM-plots)\n",
    "- [Extract shorelines](#Extract-shorelines)\n",
    "    - [Example: Shoreline from single image](##Shoreline-from-single-image)\n"
   ]
  },
  {
   "cell_type": "markdown",
   "metadata": {},
   "source": [
    "## Get camera intrinsics and extrinsics"
   ]
  },
  {
   "cell_type": "code",
   "execution_count": null,
   "metadata": {},
   "outputs": [],
   "source": []
  },
  {
   "cell_type": "markdown",
   "metadata": {},
   "source": [
    "## Define timestacks for ARGUS camera"
   ]
  },
  {
   "cell_type": "code",
   "execution_count": null,
   "metadata": {},
   "outputs": [],
   "source": [
    "import sys\n",
    "import os\n",
    "import json\n",
    "if 'CODES' not in sys.path:\n",
    "    sys.path.append('CODES')\n",
    "    \n",
    "from ImageHandler import ImageHandler\n",
    "import utils_runup \n",
    "\n",
    "configPath = \"config.json\"\n",
    "sample_img_path = \"DATA/DATA/images/1737649800.Thu.Jan.23_16_30_00.GMT.2025.CACO03.c1.snap.jpg\"\n",
    "\n",
    "#yaml_filename = \"filename dictionary of coordinates E,N,Z,U,V - end in .yaml\"\n",
    "yaml_filename = 'eyample.yaml'\n",
    "#pix_filename = \"filename for .pix file - end in .pix\"\n",
    "pix_filename = 'eyample.pix'\n",
    "\n",
    "img_handle = ImageHandler(imagePath = sample_img_path, configPath = configPath)\n",
    "\n",
    "img_handle.read_metadata()\n",
    "metadata = img_handle.metadata\n",
    "config = img_handle.config\n",
    "\n",
    "productsPath = config.get(\"productsPath\", {})\n",
    "pixsaveDir = config.get(\"piysaveDir\", {})\n",
    "\n",
    "utils_runup.define_UV_transects(productsPath, \n",
    "                    metadata['intrinsics'], \n",
    "                    metadata['eytrinsics'], \n",
    "                    pixsaveDir=pixsaveDir, \n",
    "                    yaml_filename = yaml_filename, \n",
    "                    pix_filename = pix_filename)         \n",
    "\n"
   ]
  },
  {
   "cell_type": "markdown",
   "metadata": {},
   "source": [
    "## Rectify image products"
   ]
  },
  {
   "cell_type": "code",
   "execution_count": null,
   "metadata": {},
   "outputs": [],
   "source": [
    "import sys\n",
    "\n",
    "if 'CODES' not in sys.path:\n",
    "    sys.path.append('CODES')\n",
    "\n",
    "from ImageHandler import ImageDatastore\n",
    "\n",
    "# Set up datastore for all files in imageDir\n",
    "datastore = ImageDatastore(configPath = 'config.json')\n",
    "datastore.image_stats()\n",
    "# Only keep image products\n",
    "datastore.keep_images_by_type(['snap', 'timex', 'var', 'bright', 'dark'])\n",
    "datastore.image_stats()\n",
    "\n",
    "# Load all images to datastore\n",
    "#datastore.initialize_image_handlers()\n",
    "\n",
    "# Rectify each image onto grid provided in productsPath\n",
    "datastore.apply_to_all_images('rectify_image')\n",
    "\n",
    "# Save rectified image to netcdf\n",
    "datastore.apply_to_all_images('save_to_netcdf')\n",
    "\n",
    "# Create video of brightest oblique images - can also add start_time and end_time\n",
    "datastore.create_video(image_type = 'bright', frame_rate = 12, camera = '2')#, end_time=datetime(2024, 8,17,00,00,00, tzinfo=timezone.utc))\n",
    "\n",
    "# Rectify images, merge camers and save full image with text overlap of site, camera, time. Does not store rectified/merged images.\n",
    "#datastore.merge_images_fast()\n"
   ]
  },
  {
   "cell_type": "markdown",
   "metadata": {},
   "source": [
    "### Example plot of rectified image"
   ]
  },
  {
   "cell_type": "code",
   "execution_count": null,
   "metadata": {},
   "outputs": [],
   "source": [
    "import xarray as xr\n",
    "import matplotlib.pyplot as plt\n",
    "ds = xr.open_dataset(\"DATA/DATA/results/netcdf/1729620000.Tue.Oct.22_18_00_00.GMT.2024.CACO03.c1.timex.nc\")\n",
    "ds\n",
    "fig, axes = plt.subplots(1, 2, figsize=(12, 6))\n",
    "fig.suptitle(f\"Rectified Image - {ds.attrs['name']}\", fontsize=14)\n",
    "\n",
    "# First subplot: pcolor\n",
    "ax1 = axes[0]\n",
    "pcolor_plot = ax1.pcolor(ds['Eastings'], ds['Northings'], ds['Ir'], shading='auto')\n",
    "ax1.scatter(ds.attrs['origin_easting'], ds.attrs['origin_northing'], c='r')\n",
    "ax1.set_xlabel(\"Eastings\")\n",
    "ax1.set_ylabel(\"Northings\")\n",
    "\n",
    "# Second subplot: imshow\n",
    "ax2 = axes[1]\n",
    "im = ax2.imshow(\n",
    "    ds['Ir'],\n",
    "    extent=[ds['localX'][0, 0], ds['localX'][-1, -1], ds['utmY'][0, 0], ds['utmY'][-1, -1]],\n",
    "    origin='lower'\n",
    ")\n",
    "ax2.set_xlabel(\"utm X\")\n",
    "ax2.set_ylabel(\"Local Y\")\n",
    "\n",
    "plt.tight_layout(rect=[0, 0, 1, 0.96])  # Adjust layout for title\n"
   ]
  },
  {
   "cell_type": "markdown",
   "metadata": {},
   "source": [
    "### Rectifying single image"
   ]
  },
  {
   "cell_type": "code",
   "execution_count": null,
   "metadata": {},
   "outputs": [],
   "source": [
    "\n",
    "import sys\n",
    "\n",
    "if 'CODES' not in sys.path:\n",
    "    sys.path.append('CODES')\n",
    "\n",
    "from ImageHandler import ImageHandler\n",
    "\n",
    "imagePath = 'path/to/image'\n",
    "image_handler = ImageHandler(imagePath = imagePath, configPath = 'config.json')\n",
    "image_handler.rectify_image()\n",
    "image_handler.save_to_netcdf()"
   ]
  },
  {
   "cell_type": "markdown",
   "metadata": {},
   "source": [
    "## Extract runup"
   ]
  },
  {
   "cell_type": "code",
   "execution_count": null,
   "metadata": {},
   "outputs": [],
   "source": [
    "import sys\n",
    "import json\n",
    "if 'CODES' not in sys.path:\n",
    "    sys.path.append('CODES')\n",
    "\n",
    "from ImageHandler import ImageDatastore\n",
    "\n",
    "with open('config.json', \"r\") as f:\n",
    "    config = json.load(f)\n",
    "\n",
    "# Split .tiff files from i2RGUS into individual transects\n",
    "if config.get('split_tiff', False) is True:\n",
    "    import utils_runup\n",
    "    utils_runup.split_tiff(config)\n",
    "\n",
    "# Set up datastore for all files in imageDir\n",
    "datastore = ImageDatastore(configPath = config)\n",
    "# Remove image products -> keep transects\n",
    "datastore.remove_images_by_type(['snap', 'timex', 'var', 'bright', 'dark'])\n",
    "datastore.image_stats()\n",
    "\n",
    "# Get runup from segformer model (segformerCodeDir/segformerModel), rectify onto DEM (demPath) and save to netcdf\n",
    "datastore.get_runup_from_timestacks(segformer_flag=True, save_flag=True)\n"
   ]
  },
  {
   "cell_type": "markdown",
   "metadata": {},
   "source": [
    "### Runup from single image"
   ]
  },
  {
   "cell_type": "code",
   "execution_count": null,
   "metadata": {},
   "outputs": [
    {
     "name": "stdout",
     "output_type": "stream",
     "text": [
      "Running Segformer for 1729620000.Tue.Oct.22_18_00_00.GMT.2024.CACO03.c1.ras_transect6\n",
      "/mnt/c/Users/alange/Desktop/DATA/CODES/GitHub/ShoreScan/ShoreScan_runup_example/CODES/\n",
      "Saved overlay image: /mnt/c/Users/alange/Desktop/DATA/CODES/GitHub/ShoreScan/ShoreScan_clean_example/DATA/DATA/results/runup/overlay_1729620000.Tue.Oct.22_18_00_00.GMT.2024.CACO03.c1.ras_transect6.jpg\n",
      "Getting runup\n",
      "getting tide\n",
      "computing runup stats\n",
      "Saving runup\n"
     ]
    },
    {
     "name": "stderr",
     "output_type": "stream",
     "text": [
      "/mnt/c/Users/alange/Desktop/DATA/CODES/GitHub/Shorescan/ShoreScan_clean_example/CODES/ImageHandler.py:1026: UserWarning: no explicit representation of timezones available for np.datetime64\n",
      "  T = np.array([self.datetime + timedelta(seconds = t) for t in t_sec], dtype = np.datetime64)\n"
     ]
    },
    {
     "name": "stdout",
     "output_type": "stream",
     "text": [
      "All data saved to /mnt/c/Users/alange/Desktop/DATA/CODES/GitHub/ShoreScan/ShoreScan_clean_example/DATA/DATA/results/netcdf/1729620000.Tue.Oct.22_18_00_00.GMT.2024.CACO03.c1.ras_transect6.nc\n"
     ]
    }
   ],
   "source": [
    "import sys\n",
    "import json\n",
    "if 'CODES' not in sys.path:\n",
    "    sys.path.append('CODES')\n",
    "\n",
    "from ImageHandler import ImageHandler\n",
    "with open('config.json', \"r\") as f:\n",
    "    config = json.load(f)\n",
    "\n",
    "# Set up image\n",
    "img_handle = ImageHandler(imagePath=\"/mnt/c/Users/alange/Desktop/DATA/CODES/GitHub/ShoreScan/ShoreScan_clean_example/DATA/DATA/images/runup_play/1729620000.Tue.Oct.22_18_00_00.GMT.2024.CACO03.c1.ras_transect6.png\", configPath = config)\n",
    "# Run segformer model\n",
    "img_handle.run_segformer_on_timestack()\n",
    "# Extract runup\n",
    "img_handle.get_runup_from_segformer()\n",
    "# Project horizontal runup to vertical and get runup stats\n",
    "img_handle.compute_runup()\n",
    "# Save to netcdf\n",
    "img_handle.save_to_netcdf()"
   ]
  },
  {
   "cell_type": "markdown",
   "metadata": {},
   "source": [
    "### DEM plots"
   ]
  },
  {
   "cell_type": "code",
   "execution_count": null,
   "metadata": {},
   "outputs": [],
   "source": [
    "import plotly.graph_objects as go\n",
    "fig = go.Figure()\n",
    "\n",
    "# Plot the surface\n",
    "fig.add_trace(go.Surface(z=z[::100], x=X[::100], y=Y[::100], colorscale='earth', opacity=1, showscale=False,\n",
    "    colorbar=dict(title=\"Elevation (m)\", len=0.75, thickness=20),\n",
    "    contours=dict(\n",
    "        x=dict(show=True, color=\"black\"),\n",
    "        y=dict(show=True, color=\"black\"),\n",
    "        z=dict(show=True, highlightcolor=\"black\", project_z=True)\n",
    "    )))\n",
    "\n",
    "# Scatter plot for extrinsics points (Ray origin)\n",
    "fig.add_trace(go.Scatter3d(x=[extrinsics['x']], y=[extrinsics['y']], z=[extrinsics['z']], mode='markers', marker=dict(size=5, color='blue', opacity=0.7), name='Extrinsics'))\n",
    "\n",
    "transect_data = coords_grid['transect_0']\n",
    "for idx, Points_w_set in enumerate(transect_data['xyz']):\n",
    "    \n",
    "    fig.add_trace(go.Scatter3d(\n",
    "            x=[Points_w_set[0]], \n",
    "            y=[Points_w_set[1]], \n",
    "            z=[Points_w_set[2]], \n",
    "            mode='markers', \n",
    "            marker=dict(size=5, opacity=0.7, color='black'),\n",
    "            name=f'Crossing point'  # Naming each set based on the iteration\n",
    "        ))\n",
    "fig.update_layout(\n",
    "    scene=dict(\n",
    "        aspectmode='manual',\n",
    "        aspectratio=dict(x=3, y=1, z=1),\n",
    "        xaxis=dict(\n",
    "            title='X-axis',\n",
    "            range=[extrinsics['x']-100, extrinsics['x']+150]  # Replace min_x and max_x with your desired limits\n",
    "        ),\n",
    "        yaxis=dict(\n",
    "            title='Y-axis',\n",
    "            range=[extrinsics['y']-150, extrinsics['y']+150]  # Replace min_y and max_y with your desired limits\n",
    "        ),\n",
    "        zaxis=dict(\n",
    "            title='Z-axis',\n",
    "            range=[-2,22]  # Replace min_x and max_x with your desired limits\n",
    "        ),\n",
    "    ),\n",
    "    title=f'3D Surface at {45} degrees',  # Change 45 to your angle_deg value\n",
    "    margin=dict(r=10, b=10, l=10, t=40) # Adjust margins as needed\n",
    ")\n",
    "fig.show()"
   ]
  },
  {
   "cell_type": "code",
   "execution_count": null,
   "metadata": {},
   "outputs": [],
   "source": [
    "import numpy as np\n",
    "import plotly.graph_objects as go\n",
    "\n",
    "# Create the figure\n",
    "fig = go.Figure()\n",
    "\n",
    "# Plot the surface\n",
    "fig.add_trace(go.Surface(z=z[::100], x=X[::100], y=Y[::100], colorscale='earth', opacity=1, showscale=False,\n",
    "    colorbar=dict(title=\"Elevation (m)\", len=0.75, thickness=20),\n",
    "    contours=dict(\n",
    "        x=dict(show=True, color=\"black\"),\n",
    "        y=dict(show=True, color=\"black\"),\n",
    "        z=dict(show=True, highlightcolor=\"black\", project_z=True)\n",
    "    )))\n",
    "\n",
    "fig.add_trace(go.Scatter3d(\n",
    "        x=grid['eastings_shoreline'], \n",
    "        y=grid['northings_shoreline'], \n",
    "        z=grid['elevation_shoreline'], \n",
    "        mode='markers', \n",
    "        marker=dict(size=5, opacity=0.7, color = 'black'),\n",
    "        name=f'Shoreline'  # Naming each set based on the iteration\n",
    "    ))\n",
    "\n",
    "fig.add_trace(go.Scatter3d(x=t2['Hrunup_utm'].values[:,0], y=t2['Hrunup_utm'].values[:,1], z=t2['TWL'].values, mode='markers', marker=dict(size=5, opacity=0.7),\n",
    "        name=f'Transect 2'))\n",
    "fig.add_trace(go.Scatter3d(x=t3['Hrunup_utm'].values[:,0], y=t3['Hrunup_utm'].values[:,1], z=t3['TWL'].values, mode='markers', marker=dict(size=5, opacity=0.7),\n",
    "        name=f'Transect 3'))\n",
    "fig.add_trace(go.Scatter3d(x=t4['Hrunup_utm'].values[:,0], y=t4['Hrunup_utm'].values[:,1], z=t4['TWL'].values, mode='markers', marker=dict(size=5, opacity=0.7),\n",
    "        name=f'Transect 4'))\n",
    "fig.add_trace(go.Scatter3d(x=t5['Hrunup_utm'].values[:,0], y=t5['Hrunup_utm'].values[:,1], z=t5['TWL'].values, mode='markers', marker=dict(size=5, opacity=0.7),\n",
    "        name=f'Transect 5'))\n",
    "fig.add_trace(go.Scatter3d(x=t6['Hrunup_utm'].values[:,0], y=t6['Hrunup_utm'].values[:,1], z=t6['TWL'].values, mode='markers', marker=dict(size=5, opacity=0.7),\n",
    "        name=f'Transect 6'))\n",
    "\n",
    "\n",
    "# Labels and title\n",
    "fig.update_layout(\n",
    "    scene=dict(\n",
    "        aspectmode='manual',\n",
    "        aspectratio=dict(x=3, y=1, z=1),\n",
    "        xaxis=dict(\n",
    "            title='X-axis',\n",
    "            range=[grid.attrs['origin_easting'], grid.attrs['origin_easting']+100]  # Replace min_x and max_x with your desired limits\n",
    "        ),\n",
    "        yaxis=dict(\n",
    "            title='Y-axis',\n",
    "            range=[grid.attrs['origin_northing']-50, grid.attrs['origin_northing']+80]  # Replace min_y and max_y with your desired limits\n",
    "        ),\n",
    "        zaxis=dict(\n",
    "            title='Z-axis',\n",
    "            range=[-2,6]  # Replace min_x and max_x with your desired limits\n",
    "        ),\n",
    "    ),\n",
    "    title=f'3D Surface at {45} degrees',  # Change 45 to your angle_deg value\n",
    "    margin=dict(r=10, b=10, l=10, t=40) # Adjust margins as needed\n",
    ")\n",
    "\n",
    "\n",
    "# Show plot\n",
    "fig.show()\n"
   ]
  },
  {
   "cell_type": "markdown",
   "metadata": {},
   "source": [
    "## Extract shorelines"
   ]
  },
  {
   "cell_type": "code",
   "execution_count": null,
   "metadata": {},
   "outputs": [],
   "source": [
    "import sys\n",
    "\n",
    "if 'CODES' not in sys.path:\n",
    "    sys.path.append('CODES')\n",
    "\n",
    "from ImageHandler import ImageDatastore\n",
    "\n",
    "# Set up datastore for all files in imageDir\n",
    "datastore = ImageDatastore(configPath = 'config.json')\n",
    "# Only run on bright images\n",
    "datastore.keep_images_by_type([ 'bright'])\n",
    "datastore.image_stats()\n",
    "\n",
    "# Rectify each image onto grid provided in productsPath\n",
    "datastore.apply_to_all_images('rectify_image')\n",
    "# Extract shoreline from oblique image and rectify to DEM (demPath) - will processes matching bright and timex\n",
    "datastore.process_shorelines(make_plots=False, save_flag = True)"
   ]
  },
  {
   "cell_type": "markdown",
   "metadata": {},
   "source": [
    "### Shoreline from single image"
   ]
  },
  {
   "cell_type": "code",
   "execution_count": null,
   "metadata": {},
   "outputs": [],
   "source": [
    "import sys\n",
    "\n",
    "if 'CODES' not in sys.path:\n",
    "    sys.path.append('CODES')\n",
    "from ImageHandler import ImageHandler\n",
    "\n",
    "# Set up image\n",
    "img_handle = ImageHandler(configPath = 'config.json', imagePath = '/mnt/c/Users/alange/Desktop/DATA/CODES/GitHub/ShoreScan/ShoreScan_clean_example/DATA/DATA/images/1729620000.Tue.Oct.22_18_00_00.GMT.2024.CACO03.c1.bright.jpg')\n",
    "# Rectify image\n",
    "img_handle.rectify_image(dem_flag = True)\n",
    "# Extract brightest max shoreline\n",
    "img_handle.process_bright()\n",
    "# Project shoreline onto DEM (demPath)\n",
    "img_handle.rectify_shoreline()\n",
    "# Save shoreline to netcdf\n",
    "img_handle.save_to_netcdf()"
   ]
  }
 ],
 "metadata": {
  "kernelspec": {
   "display_name": "shorescan",
   "language": "python",
   "name": "python3"
  },
  "language_info": {
   "codemirror_mode": {
    "name": "ipython",
    "version": 3
   },
   "file_extension": ".py",
   "mimetype": "text/x-python",
   "name": "python",
   "nbconvert_exporter": "python",
   "pygments_lexer": "ipython3",
   "version": "3.10.16"
  }
 },
 "nbformat": 4,
 "nbformat_minor": 2
}
