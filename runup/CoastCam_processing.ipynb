{
 "cells": [
  {
   "cell_type": "markdown",
   "metadata": {},
   "source": [
    "Complete codes to processing CoastCams"
   ]
  },
  {
   "cell_type": "markdown",
   "metadata": {},
   "source": [
    "# 📖 Table of Contents\n",
    "- [Get camera intrinsics and extrinsics](#Get-camera-intrinsics-and-extrinsics)\n",
    "- [Define timestacks for ARGUS camera](#Define-timestacks-for-ARGUS-camera)\n",
    "- [Rectify image products](#Rectify-image-products)\n",
    "    - [Example: Plot image rectification from netcdf](##Example-plot-of-rectified-image)\n",
    "    - [Example: Rectify single image](##Rectifying-single-image)\n",
    "- [Extract runup](#Extract-runup)\n",
    "- [Extract shorelines](#Extract-shorelines)\n"
   ]
  },
  {
   "cell_type": "markdown",
   "metadata": {},
   "source": [
    "## Get camera intrinsics and extrinsics"
   ]
  },
  {
   "cell_type": "code",
   "execution_count": null,
   "metadata": {},
   "outputs": [],
   "source": []
  },
  {
   "cell_type": "markdown",
   "metadata": {},
   "source": [
    "## Define timestacks for ARGUS camera"
   ]
  },
  {
   "cell_type": "code",
   "execution_count": null,
   "metadata": {},
   "outputs": [],
   "source": [
    "import sys\n",
    "import os\n",
    "import json\n",
    "if 'CODES' not in sys.path:\n",
    "    sys.path.append('CODES')\n",
    "    \n",
    "from utils_runup import *\n",
    "from ImageHandler import ImageHandler\n",
    "\n",
    "configPath = \"config.json\"\n",
    "sample_img_path = \"DATA/DATA/images/1737649800.Thu.Jan.23_16_30_00.GMT.2025.CACO03.c2.snap.jpg\"\n",
    "\n",
    "#yaml_filename = \"filename dictionary of coordinates E,N,Z,U,V - end in .yaml\"\n",
    "yaml_filename = 'example.yaml'\n",
    "#pix_filename = \"filename for .pix file - end in .pix\"\n",
    "pix_filename = 'example.pix'\n",
    "\n",
    "img_handle = ImageHandler(imagePath = sample_img_path, configPath = configPath)\n",
    "\n",
    "img_handle.read_metadata()\n",
    "metadata = img_handle.metadata\n",
    "config = img_handle.config\n",
    "\n",
    "productsPath = config.get(\"productsPath\", {})\n",
    "pixsaveDir = config.get(\"pixsaveDir\", {})\n",
    "\n",
    "define_UV_transects(productsPath, \n",
    "                    metadata['intrinsics'], \n",
    "                    metadata['extrinsics'], \n",
    "                    pixsaveDir=pixsaveDir, \n",
    "                    yaml_filename = yaml_filename, \n",
    "                    pix_filename = pix_filename)         \n",
    "\n"
   ]
  },
  {
   "cell_type": "markdown",
   "metadata": {},
   "source": [
    "## Rectify image products"
   ]
  },
  {
   "cell_type": "code",
   "execution_count": null,
   "metadata": {},
   "outputs": [],
   "source": [
    "import sys\n",
    "\n",
    "if 'CODES' not in sys.path:\n",
    "    sys.path.append('CODES')\n",
    "\n",
    "from ImageHandler import ImageDatastore\n",
    "\n",
    "datastore = ImageDatastore(configPath = 'config.json')\n",
    "datastore.image_stats()\n",
    "datastore.keep_images_by_type(['snap', 'timex', 'var', 'bright', 'dark'])\n",
    "datastore.keep_images_by_type(['timex'])\n",
    "#datastore.initialize_image_handlers()\n",
    "datastore.merge_images()\n",
    "\n",
    "#datastore.apply_to_all_images('rectify_image')\n",
    "datastore.apply_to_all_images('save_to_netcdf')\n",
    "\n",
    "datastore.create_video(image_type = 'timex', frame_rate = 2, camera = '2')#, end_time=datetime(2024, 8,17,00,00,00, tzinfo=timezone.utc))\n"
   ]
  },
  {
   "cell_type": "markdown",
   "metadata": {},
   "source": [
    "### Example plot of rectified image"
   ]
  },
  {
   "cell_type": "code",
   "execution_count": null,
   "metadata": {},
   "outputs": [],
   "source": [
    "import xarray as xr\n",
    "import matplotlib.pyplot as plt\n",
    "ds = xr.open_dataset(\"DATA/DATA/results/netcdf/1729620000.Tue.Oct.22_18_00_00.GMT.2024.CACO03.c1.timex.nc\")\n",
    "ds"
   ]
  },
  {
   "cell_type": "code",
   "execution_count": null,
   "metadata": {},
   "outputs": [],
   "source": [
    "fig, axes = plt.subplots(1, 2, figsize=(12, 6))\n",
    "fig.suptitle(f\"Rectified Image - {ds.attrs['name']}\", fontsize=14)\n",
    "\n",
    "# First subplot: pcolor\n",
    "ax1 = axes[0]\n",
    "pcolor_plot = ax1.pcolor(ds['Eastings'], ds['Northings'], ds['Ir'], shading='auto')\n",
    "ax1.scatter(ds.attrs['origin_easting'], ds.attrs['origin_northing'], c='r')\n",
    "ax1.set_xlabel(\"Eastings\")\n",
    "ax1.set_ylabel(\"Northings\")\n",
    "\n",
    "# Second subplot: imshow\n",
    "ax2 = axes[1]\n",
    "im = ax2.imshow(\n",
    "    ds['Ir'],\n",
    "    extent=[ds['localX'][0, 0], ds['localX'][-1, -1], ds['localY'][0, 0], ds['localY'][-1, -1]],\n",
    "    origin='lower'\n",
    ")\n",
    "ax2.set_xlabel(\"Local X\")\n",
    "ax2.set_ylabel(\"Local Y\")\n",
    "\n",
    "plt.tight_layout(rect=[0, 0, 1, 0.96])  # Adjust layout for title\n"
   ]
  },
  {
   "cell_type": "markdown",
   "metadata": {},
   "source": [
    "### Rectifying single image"
   ]
  },
  {
   "cell_type": "code",
   "execution_count": null,
   "metadata": {},
   "outputs": [],
   "source": [
    "# rectify single image\n",
    "import sys\n",
    "\n",
    "if 'CODES' not in sys.path:\n",
    "    sys.path.append('CODES')\n",
    "\n",
    "from ImageHandler import ImageHandler\n",
    "\n",
    "imagePath = 'path/to/image'\n",
    "image_handler = ImageHandler(imagePath = imagePath, configPath = 'config.json')\n",
    "image_handler.rectify_image()\n",
    "image_handler.save_to_netcdf()"
   ]
  },
  {
   "cell_type": "markdown",
   "metadata": {},
   "source": [
    "## Extract runup "
   ]
  },
  {
   "cell_type": "code",
   "execution_count": 2,
   "metadata": {},
   "outputs": [
    {
     "name": "stdout",
     "output_type": "stream",
     "text": [
      "Total images: 5\n",
      "Image types and their counts:\n",
      "  ras_transect4: 5\n",
      "Processing: /mnt/c/Users/alange/Desktop/DATA/CODES/GitHub/ShoreScan/ShoreScan_clean_example/DATA/DATA/images/1730026800.Sun.Oct.27_11_00_00.GMT.2024.CACO03.c1.ras_transect4.png.\n",
      "Extracting runup\n",
      "Saved overlay image: /mnt/c/Users/alange/Desktop/DATA/CODES/GitHub/ShoreScan/ShoreScan_clean_example/DATA/DATA/results/runup/overlay_1730026800.Sun.Oct.27_11_00_00.GMT.2024.CACO03.c1.ras_transect4.jpg\n",
      "Processing: /mnt/c/Users/alange/Desktop/DATA/CODES/GitHub/ShoreScan/ShoreScan_clean_example/DATA/DATA/images/1730028600.Sun.Oct.27_11_30_00.GMT.2024.CACO03.c1.ras_transect4.png.\n",
      "Extracting runup\n",
      "Saved overlay image: /mnt/c/Users/alange/Desktop/DATA/CODES/GitHub/ShoreScan/ShoreScan_clean_example/DATA/DATA/results/runup/overlay_1730028600.Sun.Oct.27_11_30_00.GMT.2024.CACO03.c1.ras_transect4.jpg\n",
      "Processing: /mnt/c/Users/alange/Desktop/DATA/CODES/GitHub/ShoreScan/ShoreScan_clean_example/DATA/DATA/images/1730048400.Sun.Oct.27_17_00_00.GMT.2024.CACO03.c1.ras_transect4.png.\n",
      "Extracting runup\n",
      "Saved overlay image: /mnt/c/Users/alange/Desktop/DATA/CODES/GitHub/ShoreScan/ShoreScan_clean_example/DATA/DATA/results/runup/overlay_1730048400.Sun.Oct.27_17_00_00.GMT.2024.CACO03.c1.ras_transect4.jpg\n",
      "Processing: /mnt/c/Users/alange/Desktop/DATA/CODES/GitHub/ShoreScan/ShoreScan_clean_example/DATA/DATA/images/1730059200.Sun.Oct.27_20_00_00.GMT.2024.CACO03.c1.ras_transect4.png.\n",
      "Extracting runup\n",
      "Saved overlay image: /mnt/c/Users/alange/Desktop/DATA/CODES/GitHub/ShoreScan/ShoreScan_clean_example/DATA/DATA/results/runup/overlay_1730059200.Sun.Oct.27_20_00_00.GMT.2024.CACO03.c1.ras_transect4.jpg\n",
      "Processing: /mnt/c/Users/alange/Desktop/DATA/CODES/GitHub/ShoreScan/ShoreScan_clean_example/DATA/DATA/images/1732555800.Mon.Nov.25_17_30_00.GMT.2024.CACO03.c1.ras_transect4.png.\n",
      "Extracting runup\n",
      "Saved overlay image: /mnt/c/Users/alange/Desktop/DATA/CODES/GitHub/ShoreScan/ShoreScan_clean_example/DATA/DATA/results/runup/overlay_1732555800.Mon.Nov.25_17_30_00.GMT.2024.CACO03.c1.ras_transect4.jpg\n"
     ]
    }
   ],
   "source": [
    "import sys\n",
    "import json\n",
    "if 'CODES' not in sys.path:\n",
    "    sys.path.append('CODES')\n",
    "\n",
    "from ImageHandler import ImageDatastore\n",
    "from utils_runup import *\n",
    "with open('config.json', \"r\") as f:\n",
    "    config = json.load(f)\n",
    "\n",
    "#split_tiff(config)\n",
    "\n",
    "datastore = ImageDatastore(configPath = config)\n",
    "datastore.remove_images_by_type(['snap', 'timex', 'var', 'bright', 'dark'])\n",
    "datastore.keep_images_by_type(['ras_transect4'])\n",
    "datastore.image_stats()\n",
    "\n",
    "datastore.get_runup_from_timestacks(segformer_flag=False, save_flag=False)\n"
   ]
  },
  {
   "cell_type": "markdown",
   "metadata": {},
   "source": [
    "## Extract shorelines"
   ]
  },
  {
   "cell_type": "code",
   "execution_count": null,
   "metadata": {},
   "outputs": [],
   "source": [
    "import sys\n",
    "\n",
    "if 'CODES' not in sys.path:\n",
    "    sys.path.append('CODES')\n",
    "\n",
    "from ImageHandler import ImageDatastore\n",
    "\n",
    "datastore = ImageDatastore(configPath = 'config.json')\n",
    "datastore.keep_images_by_type([ 'bright'])\n",
    "datastore.image_stats()\n",
    "\n",
    "datastore.process_image_pairs(make_plots=False)\n",
    "datastore.apply_to_all_images('rectify_image')\n",
    "datastore.apply_to_all_images('save_to_netcdf')"
   ]
  },
  {
   "cell_type": "markdown",
   "metadata": {},
   "source": [
    "#### For individual image"
   ]
  },
  {
   "cell_type": "code",
   "execution_count": null,
   "metadata": {},
   "outputs": [],
   "source": [
    "import sys\n",
    "\n",
    "if 'CODES' not in sys.path:\n",
    "    sys.path.append('CODES')\n",
    "from ImageHandler import ImageHandler\n",
    "import utils_CIRN\n",
    "import json\n",
    "import numpy as np\n",
    "img_handle = ImageHandler(configPath = 'config.json', imagePath = '/mnt/c/Users/alange/Desktop/DATA/CODES/GitHub/ShoreScan/ShoreScan_clean_example/DATA/DATA/images/1729620000.Tue.Oct.22_18_00_00.GMT.2024.CACO03.c1.bright.jpg')\n",
    "img_handle.rectify_image()\n",
    "\n",
    "img_handle.process_bright()\n",
    "img_handle.save_to_netcdf()"
   ]
  },
  {
   "cell_type": "markdown",
   "metadata": {},
   "source": [
    "#### For plotting"
   ]
  },
  {
   "cell_type": "code",
   "execution_count": null,
   "metadata": {},
   "outputs": [],
   "source": [
    "ds = xr.open_dataset('DATA/DATA/results/netcdf/1729620000.Tue.Oct.22_18_00_00.GMT.2024.CACO03.c1.bright-shoreline-rectify.nc')"
   ]
  },
  {
   "cell_type": "code",
   "execution_count": null,
   "metadata": {},
   "outputs": [],
   "source": [
    "import plotly.express as px\n",
    "px.set_mapbox_access_token('open-street-map')"
   ]
  },
  {
   "cell_type": "code",
   "execution_count": null,
   "metadata": {},
   "outputs": [],
   "source": [
    "import numpy as np\n",
    "import pyproj\n",
    "import cartopy.crs as ccrs\n",
    "import matplotlib.pyplot as plt\n",
    "from cartopy.feature import LAND, OCEAN\n",
    "import utm\n",
    "\n",
    "# Define the map with the LCC (Lambert Conformal Conic) projection\n",
    "lat_0, lon_0 = utm.to_latlon(ab['rectified_image']['Origin_Easting'], \n",
    "                              ab['rectified_image']['Origin_Northing'], \n",
    "                              ab['rectified_image']['Origin_UTMZone'], 'N')\n",
    "\n",
    "# Correcting the latitude and longitude bounds (fixing the mistake in your original code)\n",
    "lat_min, lat_max = lat_0 - 0.01, lat_0 + 0.01  # Example latitude bounds\n",
    "lon_min, lon_max = lon_0 - 0.01, lon_0 + 0.01  # Example longitude bounds\n",
    "\n",
    "# Define the UTM projection for Zone 19N (EPSG:32619) and WGS84 (EPSG:4326)\n",
    "utm_proj = pyproj.CRS(\"EPSG:32619\")  # UTM Zone 19N\n",
    "wgs84 = pyproj.CRS(\"EPSG:4326\")  # WGS84 Latitude/Longitude\n",
    "\n",
    "# Create a transformer object to convert from UTM to WGS84\n",
    "transformer = pyproj.Transformer.from_crs(utm_proj, wgs84, always_xy=True)\n",
    "\n",
    "# Sample 2D array of Eastings (x) and Northings (y) in UTM (replace with your data)\n",
    "eastings = np.array(ab['rectified_image']['Eastings'])\n",
    "northings = np.array(ab['rectified_image']['Northings'])\n",
    "\n",
    "# Convert UTM (Eastings/Northings) to Latitude/Longitude\n",
    "longitudes,latitudes = transformer.transform(eastings, northings)\n"
   ]
  },
  {
   "cell_type": "code",
   "execution_count": null,
   "metadata": {},
   "outputs": [],
   "source": [
    "\n",
    "# Define the map with a PlateCarree projection (Lat/Lon)\n",
    "fig, ax = plt.subplots(figsize=(8, 8), subplot_kw={'projection': ccrs.PlateCarree()})\n",
    "ax.set_extent([lon_min, lon_max, lat_min, lat_max], crs=ccrs.PlateCarree())  # Adjust extents to your data\n",
    "\n",
    "\n",
    "# Add map features\n",
    "ax.add_feature(LAND)\n",
    "ax.add_feature(OCEAN, edgecolor='blue')\n",
    "# Create a Cartopy projection (using LambertConformal projection as in the Basemap example)\n",
    "projection = ccrs.LambertConformal(central_longitude=lon_0, central_latitude=lat_0)\n",
    "#ax.set_extent([min_lon, max_lon, min_lat, max_lat], crs=ccrs.PlateCarree())  # Set extent based on min/max\n",
    "\n",
    "\n",
    "ax.scatter(lon_0, lat_0, color='red', transform=ccrs.PlateCarree())  # Scatter on the map\n",
    "projection = ccrs.LambertConformal(central_longitude=lon_0, central_latitude=lat_0)\n",
    "\n",
    "# Create a transformation from Lat/Lon to the map projection (Lambert Conformal)\n",
    "#latitudes_flat = latitudes.flatten()\n",
    "#longitudes_flat = longitudes.flatten()\n",
    "\n",
    "# Create a transformation from Lat/Lon to the map projection (Lambert Conformal)\n",
    "#x_flat, y_flat = projection.transform_points(ccrs.PlateCarree(), longitudes_flat, latitudes_flat)[:, :2].T\n",
    "\n",
    "# Reshape the transformed points back into 2D arrays for plotting\n",
    "#x = x_flat.reshape(latitudes.shape)\n",
    "#y = y_flat.reshape(latitudes.shape)\n",
    "\n",
    "# Plot the data on the map\n",
    "plt.pcolor(x,y, ab['rectified_image']['Ir'])#, cmap='viridis', shading='auto')\n",
    "\n",
    "gl = ax.gridlines(draw_labels=True)  # draw_labels=True adds labels to the gridlines\n",
    "gl.xlabels_top = False  # Don't show longitude labels on top\n",
    "gl.ylabels_right = False  # Don't show latitude labels on the right\n",
    "\n",
    "# Show the map\n",
    "plt.show()\n",
    "print('hello')\n"
   ]
  },
  {
   "cell_type": "code",
   "execution_count": null,
   "metadata": {},
   "outputs": [],
   "source": [
    "# Create a Cartopy projection (using LambertConformal projection as in the Basemap example)\n",
    "projection = ccrs.LambertConformal(central_longitude=lon_0, central_latitude=lat_0)\n",
    "\n",
    "# Create a transformation from Lat/Lon to the map projection (Lambert Conformal)\n",
    "latitudes_flat = latitudes.flatten()\n",
    "longitudes_flat = longitudes.flatten()\n",
    "\n",
    "# Create a transformation from Lat/Lon to the map projection (Lambert Conformal)\n",
    "x_flat, y_flat = projection.transform_points(ccrs.PlateCarree(), longitudes_flat, latitudes_flat)[:, :2].T\n",
    "\n",
    "# Reshape the transformed points back into 2D arrays for plotting\n",
    "x = x_flat.reshape(latitudes.shape)\n",
    "y = y_flat.reshape(latitudes.shape)\n",
    "\n",
    "# Plot the data on the map\n",
    "plt.pcolor(x,y, ab['rectified_image']['Ir'])#, cmap='viridis', shading='auto')\n"
   ]
  },
  {
   "cell_type": "code",
   "execution_count": null,
   "metadata": {},
   "outputs": [],
   "source": [
    "import matplotlib.pyplot as plt\n",
    "plt.pcolor(latitudes, longitudes, ab['rectified_image']['Ir'])\n"
   ]
  },
  {
   "cell_type": "code",
   "execution_count": null,
   "metadata": {},
   "outputs": [],
   "source": []
  }
 ],
 "metadata": {
  "kernelspec": {
   "display_name": "shorescan",
   "language": "python",
   "name": "python3"
  },
  "language_info": {
   "codemirror_mode": {
    "name": "ipython",
    "version": 3
   },
   "file_extension": ".py",
   "mimetype": "text/x-python",
   "name": "python",
   "nbconvert_exporter": "python",
   "pygments_lexer": "ipython3",
   "version": "3.10.16"
  }
 },
 "nbformat": 4,
 "nbformat_minor": 2
}
